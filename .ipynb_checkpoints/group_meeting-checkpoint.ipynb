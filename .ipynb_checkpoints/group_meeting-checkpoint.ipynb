{
 "metadata": {
  "celltoolbar": "Slideshow",
  "name": "",
  "signature": "sha256:0f6a31e5e5666d3746d5abee4fa2c72221a0fc034a31c1e828189e48c01f6967"
 },
 "nbformat": 3,
 "nbformat_minor": 0,
 "worksheets": [
  {
   "cells": [
    {
     "cell_type": "markdown",
     "metadata": {
      "slideshow": {
       "slide_type": "slide"
      }
     },
     "source": [
      "#Various Updates\n",
      "\n",
      "##Josh Campbell\n",
      "###25/06/15"
     ]
    },
    {
     "cell_type": "markdown",
     "metadata": {
      "slideshow": {
       "slide_type": "slide"
      }
     },
     "source": [
      "##Genetic algorithm\n",
      "\n",
      "##Blind test molecule XXIII"
     ]
    },
    {
     "cell_type": "markdown",
     "metadata": {
      "slideshow": {
       "slide_type": "slide"
      }
     },
     "source": [
      "##GA progress\n",
      "\n",
      "Basic functionality is in place, (crossover, selection etc) so testing of parameters can start.\n",
      "\n",
      "Many possible parameters to optimise! Such as:"
     ]
    },
    {
     "cell_type": "markdown",
     "metadata": {
      "slideshow": {
       "slide_type": "fragment"
      }
     },
     "source": [
      "###Population size\n",
      "\n",
      "The population size of a GA can have a large effect on the efficiency of the search, the population needs to be large enough to be viable and small enough to run for a few generations before locating the minimum."
     ]
    },
    {
     "cell_type": "markdown",
     "metadata": {
      "slideshow": {
       "slide_type": "fragment"
      }
     },
     "source": [
      "###Selection method\n",
      "\n",
      "4 methods implemented in code, 100s out in the literature, selection pressure can vary with method or with the parameters inside it."
     ]
    },
    {
     "cell_type": "markdown",
     "metadata": {
      "slideshow": {
       "slide_type": "fragment"
      }
     },
     "source": [
      "###Crossover and elitism rate\n",
      "\n",
      "These need to be balanced. Elitism can help keep a GA on track towards a minimum, but too much reduces genetic diversity leading to incomplete searches."
     ]
    },
    {
     "cell_type": "markdown",
     "metadata": {
      "slideshow": {
       "slide_type": "subslide"
      }
     },
     "source": [
      "##Population size\n",
      "\n",
      "Population size was chosen as the first test, as this has one of the largest impacts on how many calculations are performed/CPU hours used. From initial runs it became apparent pentacene is the global minimum in a GA using -ve reorganisation energy as a fitness function.\n",
      "\n",
      "| Molecule        | Reorg Energy -ve/+ve (eV) |\n",
      "| ------------- |:-------------:|\n",
      "| Pentacene      | 0.131/0.092  |\n",
      "| 5A             | 0.150/0.114  |\n",
      "| 5D             | 0.165/0.128  |\n",
      "| 7A             | 0.178/       |\n",
      "| 7D             | 0.197/       |\n",
      "\n",
      "If we take the first appearance of pentacene in the GA as a stopping point we can directly compare the efficiency of various population sizes in terms of generations till pentacene, unique molecules till pentacene and calculations till pentacene."
     ]
    },
    {
     "cell_type": "markdown",
     "metadata": {
      "slideshow": {
       "slide_type": "slide"
      }
     },
     "source": [
      "##Conditions\n",
      "\n",
      "Using population sizes of 50, 100, 150 and 200, 1 run is till the first appearance of pentacene, results are taken from 10 runs per pop size. Crossover and elitism rate were 90% and 10% respectively. Tournament selection was used with the fitter molecule having a 75% chance of winning weaker 25%. Reorganisation energies were calculated at B3LYP/6-31G**.\n",
      "\n",
      "<img src=\"reorg_energies.png\" style=\"width: 800px;\" />\n",
      "\n",
      "\n",
      "\n"
     ]
    },
    {
     "cell_type": "markdown",
     "metadata": {
      "slideshow": {
       "slide_type": "subslide"
      }
     },
     "source": [
      "In practice this means four calculations are required per molecule:\n",
      "\n",
      "**1**. Geometry optimisation of neutral molecule (charge= 0, multipilicity= 1)\n",
      "\n",
      "**2.** Geometry optimisation of negative molecule (charge= -1, multiplicity= 2)\n",
      "\n",
      "**3.** Single point energy of the optimised geometry from **1**, with a negative charge (charge= -1, multiplicity= 2)\n",
      "\n",
      "**4.** Single point energy of the optimised geometry from **2** with a neutral chage (charge= 0, multiplicity = 1)\n",
      "\n",
      "reorg_en = (**3** - **2**) + (**4** - **1**)"
     ]
    },
    {
     "cell_type": "markdown",
     "metadata": {
      "slideshow": {
       "slide_type": "slide"
      }
     },
     "source": [
      "##Results"
     ]
    },
    {
     "cell_type": "markdown",
     "metadata": {
      "slideshow": {
       "slide_type": "subslide"
      }
     },
     "source": [
      "##Generations till pentacene\n",
      "\n",
      "<img src=\"gtp_plt.png\" style=\"width: 1000px;\" />\n",
      "\n",
      "| Pop size | Average generations till pent |\n",
      "|----------|-----------------------|\n",
      "| 200      | 5                     |\n",
      "| 150      | 4                     |\n",
      "| 100      | 5                     |\n",
      "| 50       | 7                     |"
     ]
    },
    {
     "cell_type": "markdown",
     "metadata": {
      "slideshow": {
       "slide_type": "subslide"
      }
     },
     "source": [
      "##Unique molecules till pentacene\n",
      "\n",
      "<img src=\"mtp_plt.png\" style=\"width: 1000px;\" />\n",
      "\n",
      "| Pop size | Average unique mols till pent | Calculations till pent |\n",
      "|----------|-------------------------------|------------------------|\n",
      "| 200      | 503                           | 2014                   |\n",
      "| 150      | 382                           | 1528                   |\n",
      "| 100      | 299                           | 1198                   |\n",
      "| 50       | 181                           | 724                    |\n"
     ]
    },
    {
     "cell_type": "markdown",
     "metadata": {
      "slideshow": {
       "slide_type": "subslide"
      }
     },
     "source": [
      "##Unique molecules per generation\n",
      "\n",
      "<img src=\"um_plt.png\" style=\"width: 1000px;\" />\n",
      "\n",
      "| Pop size | 1   | 2   | 3  | 4  | 5  | 6  | 7  | 8 | 9 | 10 |\n",
      "|----------|-----|-----|----|----|----|----|----|---|---|----|\n",
      "| 200      | 200 | 150 | 91 | 50 | 40 | 27 | 23 |   |   |    |\n",
      "| 150      | 150 | 93  | 73 | 66 | 41 | 36 | 22 |   |   |    |\n",
      "| 100      | 100 | 67  | 80 | 31 | 37 | 24 | 15 |   |   |    |\n",
      "| 50       | 50  | 39  | 28 | 28 | 18 | 9  | 14 | 6 | 7 | 7  |\n"
     ]
    },
    {
     "cell_type": "markdown",
     "metadata": {
      "slideshow": {
       "slide_type": "subslide"
      }
     },
     "source": [
      "| Gen | 50               | 100                             |   \n",
      "|-----|------------------|---------------------------------|\n",
      "| 1   | 5, 5, 5, 5, 5, 5 | 5, 5, 5, 5, 5, 5, 5, 5, 5, 5, 5 |   \n",
      "| 2   | 2, 2, 2, 2, 3, 3 | 1, 2, 2, 2, 2, 2, 2, 2, 2, 3, 3 |   \n",
      "| 3   | 2, 2, 2, 2, 2, 2 | 1, 1, 1, 2, 2, 2, 2, 2, 2, 2, 2 |   \n",
      "| 4   | 2, 2, 2, 2, 2, 2 | 1, 1, 1, 1, 1, 1, 1, 2, 2, 2, 2 |   \n",
      "| 5   | 2, 2, 2, 2, 2, 2 | 1, 1, 1, 1, 1, 1, 1, 1, 1, 1, 1 |   \n",
      "| 6   | 2, 2, 2, 2, 2, 2 | 0, 0, 1, 1, 1, 1, 1, 1, 1, 1, 1 |   \n",
      "| 7   | 1, 1, 2, 2, 2, 2 |                                 |   \n",
      "| 8   | 1, 1, 1, 2, 2, 2 |                                 |   \n",
      "| 9   | 1, 1, 1, 1, 1, 1 |                                 |   \n",
      "| 10  | 0, 0, 1, 1, 1, 1 |                                 |   "
     ]
    },
    {
     "cell_type": "markdown",
     "metadata": {
      "slideshow": {
       "slide_type": "slide"
      }
     },
     "source": [
      "##Decisions\n",
      "\n",
      "100 seems to be the most stable of the population sizes, increasing the population size has very little difference on the average number of generations to our minimum. 50 is perhaps too small with single digit unique molecules being a bit worrying. The larger pop sizes result in volatile runs."
     ]
    },
    {
     "cell_type": "markdown",
     "metadata": {
      "slideshow": {
       "slide_type": "slide"
      }
     },
     "source": [
      "##Improvements made on the code\n",
      "\n",
      "Previously generations were run using a combination of scripts on iridis and hand running on my virtual machine. Implementation of celery, an asynchronous task queue/job queue based on distributed message passing, the GA runs on Graeme's machine and passes messages to workers on iridis."
     ]
    },
    {
     "cell_type": "markdown",
     "metadata": {
      "slideshow": {
       "slide_type": "subslide"
      }
     },
     "source": [
      "    all_mol_coords = ga_setup_selection.coords_generator(run_mols)\n",
      "    com_files_neut = ga_setup_selection.com_generator_neutral_grndst(all_mol_coords)\n",
      "    com_files_neg = ga_setup_selection.com_generator_neg_mol_neg_geom(all_mol_coords)\n",
      "    com_files = com_files_neut + com_files_neg\n",
      "    job = group([run_gauss.s(com) for com in com_files])\n",
      "    result = job.apply_async()\n",
      "    result1 = result.get()\n"
     ]
    },
    {
     "cell_type": "markdown",
     "metadata": {
      "slideshow": {
       "slide_type": "subslide"
      }
     },
     "source": [
      "    @app.task\n",
      "    def run_gauss(com_file):\n",
      "        name = com_file[5].split(\" \")[3].strip()\n",
      "        com = name+\".com\"\n",
      "        com_f = open(com, \"w\")\n",
      "        for line in com_file:\n",
      "            if str(line).startswith(\"(\"):\n",
      "                 com_f.write(\"%6s %13.6f %13.6f %13.6f\\n\"% (line[0],float(line[1][0]),float(line[1][1]),float(line[1][2])))\n",
      "            else:\n",
      "                 com_f.write(str(line))\n",
      "        com_f.write(3*\"\\n\")\n",
      "        com_f.close()\n",
      "        run_dir = name+\"_run\"\n",
      "        os.mkdir(run_dir)\n",
      "        sb.call((\"cp \"+com+\" \"+run_dir),shell=True)\n",
      "        os.chdir(run_dir)\n",
      "        sb.call((\"g09run \"+com),shell=True)\n",
      "\n",
      "\n",
      "$ celery -A tasks -c 4 worker -l info"
     ]
    },
    {
     "cell_type": "markdown",
     "metadata": {
      "slideshow": {
       "slide_type": "subslide"
      }
     },
     "source": [
      "##Further GA work and improvements\n",
      "\n",
      "Next phase of testing will likely look at selection pressure inside tournament selection. Changing the odds of which molecule wins can have a large impact on the convergence of the search, the size of the tournment can also be varied lessening selection pressure.\n",
      "\n",
      "Improvements made to the code: \n",
      "\n",
      "Now runs on iridis using celery to communicate between Graeme's machine and workers, allowing constant running.\n",
      "Begun writing unit tests for some functions, major refactoring in the works.\n",
      "Changing crossover to be more general, look for other acenes soon!\n"
     ]
    },
    {
     "cell_type": "markdown",
     "metadata": {
      "slideshow": {
       "slide_type": "slide"
      }
     },
     "source": [
      "##Blind test molecule XXII\n",
      "\n",
      "<img src=\"mol_23.png\" style=\"width: 600px;\" />\n"
     ]
    },
    {
     "cell_type": "markdown",
     "metadata": {
      "slideshow": {
       "slide_type": "subslide"
      }
     },
     "source": [
      "##Conformers\n",
      "\n",
      "Angeles' conformational scan revealed two conformers, the global minimum and a transition state.\n",
      "\n",
      "##GM\n",
      "\n",
      "<img src=\"mol_23_gm.png\" style=\"width: 600px;\" />\n",
      "\n",
      "##TS\n",
      "\n",
      "<img src=\"mol_23.png\" style=\"width: 600px;\" />\n"
     ]
    },
    {
     "cell_type": "markdown",
     "metadata": {
      "slideshow": {
       "slide_type": "subslide"
      }
     },
     "source": [
      "##CSP GM\n",
      "\n",
      "GM is chiral so 94 sgs were considered at first, 25 most common had 5000 structures generated in each, rest 2000. After initial 5000 structures global minimum had a lattice energy of -118.500 kj/mol. All of the additional sgs that had structures within 25 kj/mol of this were restarted to take them up to 5000 structures (46 in total). No change in the lowest energy structures was observed. Only 5 structures from the additional sgs made it within 15 kj/mol of the global minimum.\n",
      "\n",
      "\n",
      "<img src=\"xxii_1_enden.png\" style=\"width: 1000px;\" />\n",
      "\n"
     ]
    },
    {
     "cell_type": "markdown",
     "metadata": {
      "slideshow": {
       "slide_type": "subslide"
      }
     },
     "source": [
      "##CSP TS\n",
      "\n",
      "TS is non-chiral so 87 sgs were considered using the same system as above. After initial 5000 structures global minimum lattice energy = -120.918. 34 uncommon sgs had their structures increased, lowest energy structure from these was -116.456, 4 structures from additional sgs were within 15 kj/mol of the minimum.\n",
      "\n",
      "<img src=\"xxii_2_enden.png\" style=\"width: 1000px;\" />\n"
     ]
    },
    {
     "cell_type": "markdown",
     "metadata": {
      "slideshow": {
       "slide_type": "slide"
      }
     },
     "source": [
      "##GM Packing\n",
      "\n",
      "Global minimum\n",
      "\n",
      "<img src=\"xxii_1_gm.png\" style=\"width: 1000px;\" />\n",
      "\n",
      "2nd\n",
      "\n",
      "<img src=\"xxii_1_2.png\" style=\"width: 1000px;\" />\n",
      "\n",
      "3rd\n",
      "\n",
      "<img src=\"xxii_1_3.png\" style=\"width: 1000px;\" />\n",
      "\n"
     ]
    },
    {
     "cell_type": "markdown",
     "metadata": {
      "slideshow": {
       "slide_type": "subslide"
      }
     },
     "source": [
      "##TS Packing\n",
      "\n",
      "Global minimum\n",
      "\n",
      "<img src=\"xxii_2_gm.png\" style=\"width: 1000px;\" />\n",
      "\n",
      "2nd\n",
      "\n",
      "<img src=\"xxii_2_2.png\" style=\"width: 1000px;\" />\n",
      "\n",
      "3rd\n",
      "\n",
      "<img src=\"xxii_2_3.png\" style=\"width: 1000px;\" />\n"
     ]
    },
    {
     "cell_type": "markdown",
     "metadata": {
      "slideshow": {
       "slide_type": "subslide"
      }
     },
     "source": [
      "##Future work\n",
      "\n",
      "Problematic spacegroups (161, 163, 169) still need to be run, probably going to treat them as P1. Jack is feverishly working away on potential fitting and once that's done we will rerun from the fort.16s.\n",
      "\n"
     ]
    },
    {
     "cell_type": "markdown",
     "metadata": {
      "slideshow": {
       "slide_type": "slide"
      }
     },
     "source": [
      "###Acknowledgements \n",
      "\n",
      "Thanks as usual to all in the Day group\n",
      "\n",
      "##Questions?"
     ]
    }
   ],
   "metadata": {}
  }
 ]
}